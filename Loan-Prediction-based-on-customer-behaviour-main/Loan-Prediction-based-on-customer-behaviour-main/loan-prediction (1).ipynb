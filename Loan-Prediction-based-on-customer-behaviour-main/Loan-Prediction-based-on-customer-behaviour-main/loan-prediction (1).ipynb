{
 "cells": [
  {
   "cell_type": "code",
   "execution_count": 1,
   "id": "f1fefb65",
   "metadata": {
    "_cell_guid": "b1076dfc-b9ad-4769-8c92-a6c4dae69d19",
    "_uuid": "8f2839f25d086af736a60e9eeb907d3b93b6e0e5",
    "execution": {
     "iopub.execute_input": "2021-08-27T11:06:55.534027Z",
     "iopub.status.busy": "2021-08-27T11:06:55.533366Z",
     "iopub.status.idle": "2021-08-27T11:06:55.547356Z",
     "shell.execute_reply": "2021-08-27T11:06:55.546296Z",
     "shell.execute_reply.started": "2021-08-27T09:59:14.172354Z"
    },
    "papermill": {
     "duration": 0.062757,
     "end_time": "2021-08-27T11:06:55.547611",
     "exception": false,
     "start_time": "2021-08-27T11:06:55.484854",
     "status": "completed"
    },
    "tags": []
   },
   "outputs": [
    {
     "name": "stdout",
     "output_type": "stream",
     "text": [
      "/kaggle/input/loan-prediction-based-on-customer-behavior/Test Data.csv\n",
      "/kaggle/input/loan-prediction-based-on-customer-behavior/Training Data.csv\n",
      "/kaggle/input/loan-prediction-based-on-customer-behavior/Sample Prediction Dataset.csv\n"
     ]
    }
   ],
   "source": [
    "# This Python 3 environment comes with many helpful analytics libraries installed\n",
    "# It is defined by the kaggle/python Docker image: https://github.com/kaggle/docker-python\n",
    "# For example, here's several helpful packages to load\n",
    "\n",
    "import numpy as np # linear algebra\n",
    "import pandas as pd # data processing, CSV file I/O (e.g. pd.read_csv)\n",
    "\n",
    "# Input data files are available in the read-only \"../input/\" directory\n",
    "# For example, running this (by clicking run or pressing Shift+Enter) will list all files under the input directory\n",
    "\n",
    "import os\n",
    "for dirname, _, filenames in os.walk('/kaggle/input'):\n",
    "    for filename in filenames:\n",
    "        print(os.path.join(dirname, filename))\n",
    "\n",
    "# You can write up to 20GB to the current directory (/kaggle/working/) that gets preserved as output when you create a version using \"Save & Run All\" \n",
    "# You can also write temporary files to /kaggle/temp/, but they won't be saved outside of the current session"
   ]
  },
  {
   "cell_type": "code",
   "execution_count": 2,
   "id": "aa4ed934",
   "metadata": {
    "execution": {
     "iopub.execute_input": "2021-08-27T11:06:55.618610Z",
     "iopub.status.busy": "2021-08-27T11:06:55.617979Z",
     "iopub.status.idle": "2021-08-27T11:06:56.667902Z",
     "shell.execute_reply": "2021-08-27T11:06:56.668361Z",
     "shell.execute_reply.started": "2021-08-27T09:59:14.192595Z"
    },
    "papermill": {
     "duration": 1.087314,
     "end_time": "2021-08-27T11:06:56.668571",
     "exception": false,
     "start_time": "2021-08-27T11:06:55.581257",
     "status": "completed"
    },
    "tags": []
   },
   "outputs": [],
   "source": [
    "import numpy as np \n",
    "import pandas as pd\n",
    "import matplotlib.pyplot as plt\n",
    "import seaborn as sns \n",
    "from sklearn import preprocessing \n",
    "from sklearn.model_selection import train_test_split\n",
    "from sklearn.linear_model import LogisticRegression\n",
    "from sklearn.metrics import classification_report \n",
    "from sklearn.metrics import accuracy_score"
   ]
  },
  {
   "cell_type": "code",
   "execution_count": 3,
   "id": "08330b36",
   "metadata": {
    "execution": {
     "iopub.execute_input": "2021-08-27T11:06:56.733715Z",
     "iopub.status.busy": "2021-08-27T11:06:56.732996Z",
     "iopub.status.idle": "2021-08-27T11:06:56.773453Z",
     "shell.execute_reply": "2021-08-27T11:06:56.774012Z",
     "shell.execute_reply.started": "2021-08-27T09:59:14.677451Z"
    },
    "papermill": {
     "duration": 0.075271,
     "end_time": "2021-08-27T11:06:56.774174",
     "exception": false,
     "start_time": "2021-08-27T11:06:56.698903",
     "status": "completed"
    },
    "tags": []
   },
   "outputs": [
    {
     "data": {
      "text/html": [
       "<div>\n",
       "<style scoped>\n",
       "    .dataframe tbody tr th:only-of-type {\n",
       "        vertical-align: middle;\n",
       "    }\n",
       "\n",
       "    .dataframe tbody tr th {\n",
       "        vertical-align: top;\n",
       "    }\n",
       "\n",
       "    .dataframe thead th {\n",
       "        text-align: right;\n",
       "    }\n",
       "</style>\n",
       "<table border=\"1\" class=\"dataframe\">\n",
       "  <thead>\n",
       "    <tr style=\"text-align: right;\">\n",
       "      <th></th>\n",
       "      <th>id</th>\n",
       "      <th>risk_flag</th>\n",
       "    </tr>\n",
       "  </thead>\n",
       "  <tbody>\n",
       "    <tr>\n",
       "      <th>0</th>\n",
       "      <td>1</td>\n",
       "      <td>0</td>\n",
       "    </tr>\n",
       "    <tr>\n",
       "      <th>1</th>\n",
       "      <td>2</td>\n",
       "      <td>0</td>\n",
       "    </tr>\n",
       "    <tr>\n",
       "      <th>2</th>\n",
       "      <td>3</td>\n",
       "      <td>1</td>\n",
       "    </tr>\n",
       "    <tr>\n",
       "      <th>3</th>\n",
       "      <td>4</td>\n",
       "      <td>0</td>\n",
       "    </tr>\n",
       "    <tr>\n",
       "      <th>4</th>\n",
       "      <td>5</td>\n",
       "      <td>0</td>\n",
       "    </tr>\n",
       "  </tbody>\n",
       "</table>\n",
       "</div>"
      ],
      "text/plain": [
       "   id  risk_flag\n",
       "0   1          0\n",
       "1   2          0\n",
       "2   3          1\n",
       "3   4          0\n",
       "4   5          0"
      ]
     },
     "execution_count": 3,
     "metadata": {},
     "output_type": "execute_result"
    }
   ],
   "source": [
    "sample_prediction= pd.read_csv('../input/loan-prediction-based-on-customer-behavior/Sample Prediction Dataset.csv')\n",
    "sample_prediction.head()"
   ]
  },
  {
   "cell_type": "code",
   "execution_count": 4,
   "id": "c2220cd4",
   "metadata": {
    "execution": {
     "iopub.execute_input": "2021-08-27T11:06:56.838489Z",
     "iopub.status.busy": "2021-08-27T11:06:56.837893Z",
     "iopub.status.idle": "2021-08-27T11:06:56.939613Z",
     "shell.execute_reply": "2021-08-27T11:06:56.940129Z",
     "shell.execute_reply.started": "2021-08-27T09:59:14.717877Z"
    },
    "papermill": {
     "duration": 0.135539,
     "end_time": "2021-08-27T11:06:56.940294",
     "exception": false,
     "start_time": "2021-08-27T11:06:56.804755",
     "status": "completed"
    },
    "tags": []
   },
   "outputs": [
    {
     "data": {
      "text/html": [
       "<div>\n",
       "<style scoped>\n",
       "    .dataframe tbody tr th:only-of-type {\n",
       "        vertical-align: middle;\n",
       "    }\n",
       "\n",
       "    .dataframe tbody tr th {\n",
       "        vertical-align: top;\n",
       "    }\n",
       "\n",
       "    .dataframe thead th {\n",
       "        text-align: right;\n",
       "    }\n",
       "</style>\n",
       "<table border=\"1\" class=\"dataframe\">\n",
       "  <thead>\n",
       "    <tr style=\"text-align: right;\">\n",
       "      <th></th>\n",
       "      <th>ID</th>\n",
       "      <th>Income</th>\n",
       "      <th>Age</th>\n",
       "      <th>Experience</th>\n",
       "      <th>Married/Single</th>\n",
       "      <th>House_Ownership</th>\n",
       "      <th>Car_Ownership</th>\n",
       "      <th>Profession</th>\n",
       "      <th>CITY</th>\n",
       "      <th>STATE</th>\n",
       "      <th>CURRENT_JOB_YRS</th>\n",
       "      <th>CURRENT_HOUSE_YRS</th>\n",
       "    </tr>\n",
       "  </thead>\n",
       "  <tbody>\n",
       "    <tr>\n",
       "      <th>0</th>\n",
       "      <td>1</td>\n",
       "      <td>7393090</td>\n",
       "      <td>59</td>\n",
       "      <td>19</td>\n",
       "      <td>single</td>\n",
       "      <td>rented</td>\n",
       "      <td>no</td>\n",
       "      <td>Geologist</td>\n",
       "      <td>Malda</td>\n",
       "      <td>West Bengal</td>\n",
       "      <td>4</td>\n",
       "      <td>13</td>\n",
       "    </tr>\n",
       "    <tr>\n",
       "      <th>1</th>\n",
       "      <td>2</td>\n",
       "      <td>1215004</td>\n",
       "      <td>25</td>\n",
       "      <td>5</td>\n",
       "      <td>single</td>\n",
       "      <td>rented</td>\n",
       "      <td>no</td>\n",
       "      <td>Firefighter</td>\n",
       "      <td>Jalna</td>\n",
       "      <td>Maharashtra</td>\n",
       "      <td>5</td>\n",
       "      <td>10</td>\n",
       "    </tr>\n",
       "    <tr>\n",
       "      <th>2</th>\n",
       "      <td>3</td>\n",
       "      <td>8901342</td>\n",
       "      <td>50</td>\n",
       "      <td>12</td>\n",
       "      <td>single</td>\n",
       "      <td>rented</td>\n",
       "      <td>no</td>\n",
       "      <td>Lawyer</td>\n",
       "      <td>Thane</td>\n",
       "      <td>Maharashtra</td>\n",
       "      <td>9</td>\n",
       "      <td>14</td>\n",
       "    </tr>\n",
       "    <tr>\n",
       "      <th>3</th>\n",
       "      <td>4</td>\n",
       "      <td>1944421</td>\n",
       "      <td>49</td>\n",
       "      <td>9</td>\n",
       "      <td>married</td>\n",
       "      <td>rented</td>\n",
       "      <td>yes</td>\n",
       "      <td>Analyst</td>\n",
       "      <td>Latur</td>\n",
       "      <td>Maharashtra</td>\n",
       "      <td>3</td>\n",
       "      <td>12</td>\n",
       "    </tr>\n",
       "    <tr>\n",
       "      <th>4</th>\n",
       "      <td>5</td>\n",
       "      <td>13429</td>\n",
       "      <td>25</td>\n",
       "      <td>18</td>\n",
       "      <td>single</td>\n",
       "      <td>rented</td>\n",
       "      <td>yes</td>\n",
       "      <td>Comedian</td>\n",
       "      <td>Berhampore</td>\n",
       "      <td>West Bengal</td>\n",
       "      <td>13</td>\n",
       "      <td>11</td>\n",
       "    </tr>\n",
       "  </tbody>\n",
       "</table>\n",
       "</div>"
      ],
      "text/plain": [
       "   ID   Income  Age  Experience Married/Single House_Ownership Car_Ownership  \\\n",
       "0   1  7393090   59          19         single          rented            no   \n",
       "1   2  1215004   25           5         single          rented            no   \n",
       "2   3  8901342   50          12         single          rented            no   \n",
       "3   4  1944421   49           9        married          rented           yes   \n",
       "4   5    13429   25          18         single          rented           yes   \n",
       "\n",
       "    Profession        CITY        STATE  CURRENT_JOB_YRS  CURRENT_HOUSE_YRS  \n",
       "0    Geologist       Malda  West Bengal                4                 13  \n",
       "1  Firefighter       Jalna  Maharashtra                5                 10  \n",
       "2       Lawyer       Thane  Maharashtra                9                 14  \n",
       "3      Analyst       Latur  Maharashtra                3                 12  \n",
       "4     Comedian  Berhampore  West Bengal               13                 11  "
      ]
     },
     "execution_count": 4,
     "metadata": {},
     "output_type": "execute_result"
    }
   ],
   "source": [
    "test_data = pd.read_csv('../input/loan-prediction-based-on-customer-behavior/Test Data.csv')\n",
    "test_data.head()"
   ]
  },
  {
   "cell_type": "code",
   "execution_count": 5,
   "id": "a229a6e9",
   "metadata": {
    "execution": {
     "iopub.execute_input": "2021-08-27T11:06:57.006103Z",
     "iopub.status.busy": "2021-08-27T11:06:57.005423Z",
     "iopub.status.idle": "2021-08-27T11:06:57.696343Z",
     "shell.execute_reply": "2021-08-27T11:06:57.695744Z",
     "shell.execute_reply.started": "2021-08-27T09:59:14.811504Z"
    },
    "papermill": {
     "duration": 0.724528,
     "end_time": "2021-08-27T11:06:57.696497",
     "exception": false,
     "start_time": "2021-08-27T11:06:56.971969",
     "status": "completed"
    },
    "tags": []
   },
   "outputs": [
    {
     "data": {
      "text/html": [
       "<div>\n",
       "<style scoped>\n",
       "    .dataframe tbody tr th:only-of-type {\n",
       "        vertical-align: middle;\n",
       "    }\n",
       "\n",
       "    .dataframe tbody tr th {\n",
       "        vertical-align: top;\n",
       "    }\n",
       "\n",
       "    .dataframe thead th {\n",
       "        text-align: right;\n",
       "    }\n",
       "</style>\n",
       "<table border=\"1\" class=\"dataframe\">\n",
       "  <thead>\n",
       "    <tr style=\"text-align: right;\">\n",
       "      <th></th>\n",
       "      <th>Id</th>\n",
       "      <th>Income</th>\n",
       "      <th>Age</th>\n",
       "      <th>Experience</th>\n",
       "      <th>Married/Single</th>\n",
       "      <th>House_Ownership</th>\n",
       "      <th>Car_Ownership</th>\n",
       "      <th>Profession</th>\n",
       "      <th>CITY</th>\n",
       "      <th>STATE</th>\n",
       "      <th>CURRENT_JOB_YRS</th>\n",
       "      <th>CURRENT_HOUSE_YRS</th>\n",
       "      <th>Risk_Flag</th>\n",
       "    </tr>\n",
       "  </thead>\n",
       "  <tbody>\n",
       "    <tr>\n",
       "      <th>0</th>\n",
       "      <td>1</td>\n",
       "      <td>1303834</td>\n",
       "      <td>23</td>\n",
       "      <td>3</td>\n",
       "      <td>single</td>\n",
       "      <td>rented</td>\n",
       "      <td>no</td>\n",
       "      <td>Mechanical_engineer</td>\n",
       "      <td>Rewa</td>\n",
       "      <td>Madhya_Pradesh</td>\n",
       "      <td>3</td>\n",
       "      <td>13</td>\n",
       "      <td>0</td>\n",
       "    </tr>\n",
       "    <tr>\n",
       "      <th>1</th>\n",
       "      <td>2</td>\n",
       "      <td>7574516</td>\n",
       "      <td>40</td>\n",
       "      <td>10</td>\n",
       "      <td>single</td>\n",
       "      <td>rented</td>\n",
       "      <td>no</td>\n",
       "      <td>Software_Developer</td>\n",
       "      <td>Parbhani</td>\n",
       "      <td>Maharashtra</td>\n",
       "      <td>9</td>\n",
       "      <td>13</td>\n",
       "      <td>0</td>\n",
       "    </tr>\n",
       "    <tr>\n",
       "      <th>2</th>\n",
       "      <td>3</td>\n",
       "      <td>3991815</td>\n",
       "      <td>66</td>\n",
       "      <td>4</td>\n",
       "      <td>married</td>\n",
       "      <td>rented</td>\n",
       "      <td>no</td>\n",
       "      <td>Technical_writer</td>\n",
       "      <td>Alappuzha</td>\n",
       "      <td>Kerala</td>\n",
       "      <td>4</td>\n",
       "      <td>10</td>\n",
       "      <td>0</td>\n",
       "    </tr>\n",
       "    <tr>\n",
       "      <th>3</th>\n",
       "      <td>4</td>\n",
       "      <td>6256451</td>\n",
       "      <td>41</td>\n",
       "      <td>2</td>\n",
       "      <td>single</td>\n",
       "      <td>rented</td>\n",
       "      <td>yes</td>\n",
       "      <td>Software_Developer</td>\n",
       "      <td>Bhubaneswar</td>\n",
       "      <td>Odisha</td>\n",
       "      <td>2</td>\n",
       "      <td>12</td>\n",
       "      <td>1</td>\n",
       "    </tr>\n",
       "    <tr>\n",
       "      <th>4</th>\n",
       "      <td>5</td>\n",
       "      <td>5768871</td>\n",
       "      <td>47</td>\n",
       "      <td>11</td>\n",
       "      <td>single</td>\n",
       "      <td>rented</td>\n",
       "      <td>no</td>\n",
       "      <td>Civil_servant</td>\n",
       "      <td>Tiruchirappalli[10]</td>\n",
       "      <td>Tamil_Nadu</td>\n",
       "      <td>3</td>\n",
       "      <td>14</td>\n",
       "      <td>1</td>\n",
       "    </tr>\n",
       "  </tbody>\n",
       "</table>\n",
       "</div>"
      ],
      "text/plain": [
       "   Id   Income  Age  Experience Married/Single House_Ownership Car_Ownership  \\\n",
       "0   1  1303834   23           3         single          rented            no   \n",
       "1   2  7574516   40          10         single          rented            no   \n",
       "2   3  3991815   66           4        married          rented            no   \n",
       "3   4  6256451   41           2         single          rented           yes   \n",
       "4   5  5768871   47          11         single          rented            no   \n",
       "\n",
       "            Profession                 CITY           STATE  CURRENT_JOB_YRS  \\\n",
       "0  Mechanical_engineer                 Rewa  Madhya_Pradesh                3   \n",
       "1   Software_Developer             Parbhani     Maharashtra                9   \n",
       "2     Technical_writer            Alappuzha          Kerala                4   \n",
       "3   Software_Developer          Bhubaneswar          Odisha                2   \n",
       "4        Civil_servant  Tiruchirappalli[10]      Tamil_Nadu                3   \n",
       "\n",
       "   CURRENT_HOUSE_YRS  Risk_Flag  \n",
       "0                 13          0  \n",
       "1                 13          0  \n",
       "2                 10          0  \n",
       "3                 12          1  \n",
       "4                 14          1  "
      ]
     },
     "execution_count": 5,
     "metadata": {},
     "output_type": "execute_result"
    }
   ],
   "source": [
    "training_data= pd.read_csv('../input/loan-prediction-based-on-customer-behavior/Training Data.csv')\n",
    "training_data.head()"
   ]
  },
  {
   "cell_type": "markdown",
   "id": "3ab6ef63",
   "metadata": {
    "papermill": {
     "duration": 0.031628,
     "end_time": "2021-08-27T11:06:57.760744",
     "exception": false,
     "start_time": "2021-08-27T11:06:57.729116",
     "status": "completed"
    },
    "tags": []
   },
   "source": [
    "### first we will do data cleaning "
   ]
  },
  {
   "cell_type": "code",
   "execution_count": 6,
   "id": "3d9a096b",
   "metadata": {
    "execution": {
     "iopub.execute_input": "2021-08-27T11:06:57.838744Z",
     "iopub.status.busy": "2021-08-27T11:06:57.838084Z",
     "iopub.status.idle": "2021-08-27T11:06:57.841517Z",
     "shell.execute_reply": "2021-08-27T11:06:57.840916Z",
     "shell.execute_reply.started": "2021-08-27T09:59:15.412747Z"
    },
    "papermill": {
     "duration": 0.049459,
     "end_time": "2021-08-27T11:06:57.841650",
     "exception": false,
     "start_time": "2021-08-27T11:06:57.792191",
     "status": "completed"
    },
    "tags": []
   },
   "outputs": [
    {
     "data": {
      "text/html": [
       "<div>\n",
       "<style scoped>\n",
       "    .dataframe tbody tr th:only-of-type {\n",
       "        vertical-align: middle;\n",
       "    }\n",
       "\n",
       "    .dataframe tbody tr th {\n",
       "        vertical-align: top;\n",
       "    }\n",
       "\n",
       "    .dataframe thead th {\n",
       "        text-align: right;\n",
       "    }\n",
       "</style>\n",
       "<table border=\"1\" class=\"dataframe\">\n",
       "  <thead>\n",
       "    <tr style=\"text-align: right;\">\n",
       "      <th></th>\n",
       "      <th>Id</th>\n",
       "      <th>Income</th>\n",
       "      <th>Age</th>\n",
       "      <th>Experience</th>\n",
       "      <th>Married/Single</th>\n",
       "      <th>House_Ownership</th>\n",
       "      <th>Car_Ownership</th>\n",
       "      <th>Profession</th>\n",
       "      <th>CITY</th>\n",
       "      <th>STATE</th>\n",
       "      <th>CURRENT_JOB_YRS</th>\n",
       "      <th>CURRENT_HOUSE_YRS</th>\n",
       "      <th>Risk_Flag</th>\n",
       "    </tr>\n",
       "  </thead>\n",
       "  <tbody>\n",
       "    <tr>\n",
       "      <th>0</th>\n",
       "      <td>1</td>\n",
       "      <td>1303834</td>\n",
       "      <td>23</td>\n",
       "      <td>3</td>\n",
       "      <td>single</td>\n",
       "      <td>rented</td>\n",
       "      <td>no</td>\n",
       "      <td>Mechanical_engineer</td>\n",
       "      <td>Rewa</td>\n",
       "      <td>Madhya_Pradesh</td>\n",
       "      <td>3</td>\n",
       "      <td>13</td>\n",
       "      <td>0</td>\n",
       "    </tr>\n",
       "    <tr>\n",
       "      <th>1</th>\n",
       "      <td>2</td>\n",
       "      <td>7574516</td>\n",
       "      <td>40</td>\n",
       "      <td>10</td>\n",
       "      <td>single</td>\n",
       "      <td>rented</td>\n",
       "      <td>no</td>\n",
       "      <td>Software_Developer</td>\n",
       "      <td>Parbhani</td>\n",
       "      <td>Maharashtra</td>\n",
       "      <td>9</td>\n",
       "      <td>13</td>\n",
       "      <td>0</td>\n",
       "    </tr>\n",
       "    <tr>\n",
       "      <th>2</th>\n",
       "      <td>3</td>\n",
       "      <td>3991815</td>\n",
       "      <td>66</td>\n",
       "      <td>4</td>\n",
       "      <td>married</td>\n",
       "      <td>rented</td>\n",
       "      <td>no</td>\n",
       "      <td>Technical_writer</td>\n",
       "      <td>Alappuzha</td>\n",
       "      <td>Kerala</td>\n",
       "      <td>4</td>\n",
       "      <td>10</td>\n",
       "      <td>0</td>\n",
       "    </tr>\n",
       "    <tr>\n",
       "      <th>3</th>\n",
       "      <td>4</td>\n",
       "      <td>6256451</td>\n",
       "      <td>41</td>\n",
       "      <td>2</td>\n",
       "      <td>single</td>\n",
       "      <td>rented</td>\n",
       "      <td>yes</td>\n",
       "      <td>Software_Developer</td>\n",
       "      <td>Bhubaneswar</td>\n",
       "      <td>Odisha</td>\n",
       "      <td>2</td>\n",
       "      <td>12</td>\n",
       "      <td>1</td>\n",
       "    </tr>\n",
       "    <tr>\n",
       "      <th>4</th>\n",
       "      <td>5</td>\n",
       "      <td>5768871</td>\n",
       "      <td>47</td>\n",
       "      <td>11</td>\n",
       "      <td>single</td>\n",
       "      <td>rented</td>\n",
       "      <td>no</td>\n",
       "      <td>Civil_servant</td>\n",
       "      <td>Tiruchirappalli[10]</td>\n",
       "      <td>Tamil_Nadu</td>\n",
       "      <td>3</td>\n",
       "      <td>14</td>\n",
       "      <td>1</td>\n",
       "    </tr>\n",
       "  </tbody>\n",
       "</table>\n",
       "</div>"
      ],
      "text/plain": [
       "   Id   Income  Age  Experience Married/Single House_Ownership Car_Ownership  \\\n",
       "0   1  1303834   23           3         single          rented            no   \n",
       "1   2  7574516   40          10         single          rented            no   \n",
       "2   3  3991815   66           4        married          rented            no   \n",
       "3   4  6256451   41           2         single          rented           yes   \n",
       "4   5  5768871   47          11         single          rented            no   \n",
       "\n",
       "            Profession                 CITY           STATE  CURRENT_JOB_YRS  \\\n",
       "0  Mechanical_engineer                 Rewa  Madhya_Pradesh                3   \n",
       "1   Software_Developer             Parbhani     Maharashtra                9   \n",
       "2     Technical_writer            Alappuzha          Kerala                4   \n",
       "3   Software_Developer          Bhubaneswar          Odisha                2   \n",
       "4        Civil_servant  Tiruchirappalli[10]      Tamil_Nadu                3   \n",
       "\n",
       "   CURRENT_HOUSE_YRS  Risk_Flag  \n",
       "0                 13          0  \n",
       "1                 13          0  \n",
       "2                 10          0  \n",
       "3                 12          1  \n",
       "4                 14          1  "
      ]
     },
     "execution_count": 6,
     "metadata": {},
     "output_type": "execute_result"
    }
   ],
   "source": [
    "training_data.head()"
   ]
  },
  {
   "cell_type": "code",
   "execution_count": 7,
   "id": "cda5db2e",
   "metadata": {
    "execution": {
     "iopub.execute_input": "2021-08-27T11:06:57.907256Z",
     "iopub.status.busy": "2021-08-27T11:06:57.906681Z",
     "iopub.status.idle": "2021-08-27T11:06:57.910967Z",
     "shell.execute_reply": "2021-08-27T11:06:57.911390Z",
     "shell.execute_reply.started": "2021-08-27T09:59:15.429524Z"
    },
    "papermill": {
     "duration": 0.038296,
     "end_time": "2021-08-27T11:06:57.911553",
     "exception": false,
     "start_time": "2021-08-27T11:06:57.873257",
     "status": "completed"
    },
    "tags": []
   },
   "outputs": [
    {
     "data": {
      "text/plain": [
       "(252000, 13)"
      ]
     },
     "execution_count": 7,
     "metadata": {},
     "output_type": "execute_result"
    }
   ],
   "source": [
    "training_data.shape"
   ]
  },
  {
   "cell_type": "markdown",
   "id": "a2a062f3",
   "metadata": {
    "papermill": {
     "duration": 0.031814,
     "end_time": "2021-08-27T11:06:57.975727",
     "exception": false,
     "start_time": "2021-08-27T11:06:57.943913",
     "status": "completed"
    },
    "tags": []
   },
   "source": [
    "### target varaible is risk flag"
   ]
  },
  {
   "cell_type": "code",
   "execution_count": 8,
   "id": "c02bc0e2",
   "metadata": {
    "execution": {
     "iopub.execute_input": "2021-08-27T11:06:58.043839Z",
     "iopub.status.busy": "2021-08-27T11:06:58.043205Z",
     "iopub.status.idle": "2021-08-27T11:06:58.054743Z",
     "shell.execute_reply": "2021-08-27T11:06:58.054221Z",
     "shell.execute_reply.started": "2021-08-27T09:59:15.442317Z"
    },
    "papermill": {
     "duration": 0.047147,
     "end_time": "2021-08-27T11:06:58.054866",
     "exception": false,
     "start_time": "2021-08-27T11:06:58.007719",
     "status": "completed"
    },
    "tags": []
   },
   "outputs": [
    {
     "data": {
      "text/plain": [
       "array([0, 1])"
      ]
     },
     "execution_count": 8,
     "metadata": {},
     "output_type": "execute_result"
    }
   ],
   "source": [
    "training_data[\"Risk_Flag\"].unique()"
   ]
  },
  {
   "cell_type": "code",
   "execution_count": 9,
   "id": "d7fe7b46",
   "metadata": {
    "execution": {
     "iopub.execute_input": "2021-08-27T11:06:58.130409Z",
     "iopub.status.busy": "2021-08-27T11:06:58.129530Z",
     "iopub.status.idle": "2021-08-27T11:06:58.202523Z",
     "shell.execute_reply": "2021-08-27T11:06:58.202973Z",
     "shell.execute_reply.started": "2021-08-27T09:59:15.459690Z"
    },
    "papermill": {
     "duration": 0.115309,
     "end_time": "2021-08-27T11:06:58.203137",
     "exception": false,
     "start_time": "2021-08-27T11:06:58.087828",
     "status": "completed"
    },
    "tags": []
   },
   "outputs": [
    {
     "data": {
      "text/html": [
       "<div>\n",
       "<style scoped>\n",
       "    .dataframe tbody tr th:only-of-type {\n",
       "        vertical-align: middle;\n",
       "    }\n",
       "\n",
       "    .dataframe tbody tr th {\n",
       "        vertical-align: top;\n",
       "    }\n",
       "\n",
       "    .dataframe thead th {\n",
       "        text-align: right;\n",
       "    }\n",
       "</style>\n",
       "<table border=\"1\" class=\"dataframe\">\n",
       "  <thead>\n",
       "    <tr style=\"text-align: right;\">\n",
       "      <th></th>\n",
       "      <th>Id</th>\n",
       "      <th>Income</th>\n",
       "      <th>Age</th>\n",
       "      <th>Experience</th>\n",
       "      <th>CURRENT_JOB_YRS</th>\n",
       "      <th>CURRENT_HOUSE_YRS</th>\n",
       "      <th>Risk_Flag</th>\n",
       "    </tr>\n",
       "  </thead>\n",
       "  <tbody>\n",
       "    <tr>\n",
       "      <th>count</th>\n",
       "      <td>252000.000000</td>\n",
       "      <td>2.520000e+05</td>\n",
       "      <td>252000.000000</td>\n",
       "      <td>252000.000000</td>\n",
       "      <td>252000.000000</td>\n",
       "      <td>252000.000000</td>\n",
       "      <td>252000.000000</td>\n",
       "    </tr>\n",
       "    <tr>\n",
       "      <th>mean</th>\n",
       "      <td>126000.500000</td>\n",
       "      <td>4.997117e+06</td>\n",
       "      <td>49.954071</td>\n",
       "      <td>10.084437</td>\n",
       "      <td>6.333877</td>\n",
       "      <td>11.997794</td>\n",
       "      <td>0.123000</td>\n",
       "    </tr>\n",
       "    <tr>\n",
       "      <th>std</th>\n",
       "      <td>72746.278255</td>\n",
       "      <td>2.878311e+06</td>\n",
       "      <td>17.063855</td>\n",
       "      <td>6.002590</td>\n",
       "      <td>3.647053</td>\n",
       "      <td>1.399037</td>\n",
       "      <td>0.328438</td>\n",
       "    </tr>\n",
       "    <tr>\n",
       "      <th>min</th>\n",
       "      <td>1.000000</td>\n",
       "      <td>1.031000e+04</td>\n",
       "      <td>21.000000</td>\n",
       "      <td>0.000000</td>\n",
       "      <td>0.000000</td>\n",
       "      <td>10.000000</td>\n",
       "      <td>0.000000</td>\n",
       "    </tr>\n",
       "    <tr>\n",
       "      <th>25%</th>\n",
       "      <td>63000.750000</td>\n",
       "      <td>2.503015e+06</td>\n",
       "      <td>35.000000</td>\n",
       "      <td>5.000000</td>\n",
       "      <td>3.000000</td>\n",
       "      <td>11.000000</td>\n",
       "      <td>0.000000</td>\n",
       "    </tr>\n",
       "    <tr>\n",
       "      <th>50%</th>\n",
       "      <td>126000.500000</td>\n",
       "      <td>5.000694e+06</td>\n",
       "      <td>50.000000</td>\n",
       "      <td>10.000000</td>\n",
       "      <td>6.000000</td>\n",
       "      <td>12.000000</td>\n",
       "      <td>0.000000</td>\n",
       "    </tr>\n",
       "    <tr>\n",
       "      <th>75%</th>\n",
       "      <td>189000.250000</td>\n",
       "      <td>7.477502e+06</td>\n",
       "      <td>65.000000</td>\n",
       "      <td>15.000000</td>\n",
       "      <td>9.000000</td>\n",
       "      <td>13.000000</td>\n",
       "      <td>0.000000</td>\n",
       "    </tr>\n",
       "    <tr>\n",
       "      <th>max</th>\n",
       "      <td>252000.000000</td>\n",
       "      <td>9.999938e+06</td>\n",
       "      <td>79.000000</td>\n",
       "      <td>20.000000</td>\n",
       "      <td>14.000000</td>\n",
       "      <td>14.000000</td>\n",
       "      <td>1.000000</td>\n",
       "    </tr>\n",
       "  </tbody>\n",
       "</table>\n",
       "</div>"
      ],
      "text/plain": [
       "                  Id        Income            Age     Experience  \\\n",
       "count  252000.000000  2.520000e+05  252000.000000  252000.000000   \n",
       "mean   126000.500000  4.997117e+06      49.954071      10.084437   \n",
       "std     72746.278255  2.878311e+06      17.063855       6.002590   \n",
       "min         1.000000  1.031000e+04      21.000000       0.000000   \n",
       "25%     63000.750000  2.503015e+06      35.000000       5.000000   \n",
       "50%    126000.500000  5.000694e+06      50.000000      10.000000   \n",
       "75%    189000.250000  7.477502e+06      65.000000      15.000000   \n",
       "max    252000.000000  9.999938e+06      79.000000      20.000000   \n",
       "\n",
       "       CURRENT_JOB_YRS  CURRENT_HOUSE_YRS      Risk_Flag  \n",
       "count    252000.000000      252000.000000  252000.000000  \n",
       "mean          6.333877          11.997794       0.123000  \n",
       "std           3.647053           1.399037       0.328438  \n",
       "min           0.000000          10.000000       0.000000  \n",
       "25%           3.000000          11.000000       0.000000  \n",
       "50%           6.000000          12.000000       0.000000  \n",
       "75%           9.000000          13.000000       0.000000  \n",
       "max          14.000000          14.000000       1.000000  "
      ]
     },
     "execution_count": 9,
     "metadata": {},
     "output_type": "execute_result"
    }
   ],
   "source": [
    "training_data.describe()"
   ]
  },
  {
   "cell_type": "markdown",
   "id": "a5750e40",
   "metadata": {
    "papermill": {
     "duration": 0.032953,
     "end_time": "2021-08-27T11:06:58.269520",
     "exception": false,
     "start_time": "2021-08-27T11:06:58.236567",
     "status": "completed"
    },
    "tags": []
   },
   "source": [
    "### Finding out number of null values "
   ]
  },
  {
   "cell_type": "code",
   "execution_count": 10,
   "id": "61961d04",
   "metadata": {
    "execution": {
     "iopub.execute_input": "2021-08-27T11:06:58.484300Z",
     "iopub.status.busy": "2021-08-27T11:06:58.483600Z",
     "iopub.status.idle": "2021-08-27T11:06:58.495247Z",
     "shell.execute_reply": "2021-08-27T11:06:58.494721Z",
     "shell.execute_reply.started": "2021-08-27T09:59:15.543749Z"
    },
    "papermill": {
     "duration": 0.19252,
     "end_time": "2021-08-27T11:06:58.495380",
     "exception": false,
     "start_time": "2021-08-27T11:06:58.302860",
     "status": "completed"
    },
    "tags": []
   },
   "outputs": [
    {
     "data": {
      "text/plain": [
       "Id                   0\n",
       "Income               0\n",
       "Age                  0\n",
       "Experience           0\n",
       "Married/Single       0\n",
       "House_Ownership      0\n",
       "Car_Ownership        0\n",
       "Profession           0\n",
       "CITY                 0\n",
       "STATE                0\n",
       "CURRENT_JOB_YRS      0\n",
       "CURRENT_HOUSE_YRS    0\n",
       "Risk_Flag            0\n",
       "dtype: int64"
      ]
     },
     "execution_count": 10,
     "metadata": {},
     "output_type": "execute_result"
    }
   ],
   "source": [
    "training_data.isnull().sum() #no null values "
   ]
  },
  {
   "cell_type": "code",
   "execution_count": 11,
   "id": "ba655740",
   "metadata": {
    "execution": {
     "iopub.execute_input": "2021-08-27T11:06:58.578134Z",
     "iopub.status.busy": "2021-08-27T11:06:58.571456Z",
     "iopub.status.idle": "2021-08-27T11:06:59.003929Z",
     "shell.execute_reply": "2021-08-27T11:06:59.004395Z",
     "shell.execute_reply.started": "2021-08-27T09:59:15.613310Z"
    },
    "papermill": {
     "duration": 0.475204,
     "end_time": "2021-08-27T11:06:59.004587",
     "exception": false,
     "start_time": "2021-08-27T11:06:58.529383",
     "status": "completed"
    },
    "tags": []
   },
   "outputs": [
    {
     "data": {
      "text/plain": [
       "([<matplotlib.patches.Wedge at 0x7f2e90f5a5d0>,\n",
       "  <matplotlib.patches.Wedge at 0x7f2e90f5ac50>],\n",
       " [Text(-1.0188922925859059, 0.4145581938751625, '0'),\n",
       "  Text(1.018892263475599, -0.4145582654218472, '1')])"
      ]
     },
     "execution_count": 11,
     "metadata": {},
     "output_type": "execute_result"
    },
    {
     "data": {
      "image/png": "[encoded data removed]",
      "text/plain": [
       "<Figure size 432x288 with 4 Axes>"
      ]
     },
     "metadata": {},
     "output_type": "display_data"
    }
   ],
   "source": [
    "plt.subplot(1,4,1)\n",
    "plt.subplots_adjust(left=0,right=3,bottom=1,top=2,wspace=0.2,hspace=0.4)\n",
    "label_age=['single','married']\n",
    "plt.title(\"Married/Single\")\n",
    "plt.pie(training_data.groupby(training_data[\"Married/Single\"]).size(),labels=label_age)\n",
    "\n",
    "plt.subplot(1,4,2)\n",
    "label_ed=['rented','norent_noown','owned']\n",
    "plt.title(\"House_Ownership\")\n",
    "plt.pie(training_data.groupby(training_data[\"House_Ownership\"]).size(),labels=label_ed)\n",
    "\n",
    "plt.subplot(1,4,3)\n",
    "label_car=['yes','no']\n",
    "plt.title(\"car_ownership\")\n",
    "plt.pie(training_data.groupby(training_data[\"Car_Ownership\"]).size(),labels=label_car)\n",
    "\n",
    "plt.subplot(1,4,4)\n",
    "plt.title(\"Risk_Flag\")\n",
    "label_r=[0,1]\n",
    "plt.pie(training_data.groupby(training_data[\"Risk_Flag\"]).size(),labels=label_r)"
   ]
  },
  {
   "cell_type": "markdown",
   "id": "4d421943",
   "metadata": {
    "papermill": {
     "duration": 0.035803,
     "end_time": "2021-08-27T11:06:59.076871",
     "exception": false,
     "start_time": "2021-08-27T11:06:59.041068",
     "status": "completed"
    },
    "tags": []
   },
   "source": [
    "### Finding correlation through heatmap of all tha datasets "
   ]
  },
  {
   "cell_type": "code",
   "execution_count": 12,
   "id": "5d9c33a8",
   "metadata": {
    "execution": {
     "iopub.execute_input": "2021-08-27T11:06:59.153334Z",
     "iopub.status.busy": "2021-08-27T11:06:59.152742Z",
     "iopub.status.idle": "2021-08-27T11:06:59.635349Z",
     "shell.execute_reply": "2021-08-27T11:06:59.634739Z",
     "shell.execute_reply.started": "2021-08-27T09:59:16.010036Z"
    },
    "papermill": {
     "duration": 0.522382,
     "end_time": "2021-08-27T11:06:59.635501",
     "exception": false,
     "start_time": "2021-08-27T11:06:59.113119",
     "status": "completed"
    },
    "tags": []
   },
   "outputs": [
    {
     "name": "stdout",
     "output_type": "stream",
     "text": [
      "                         Id    Income       Age  Experience  CURRENT_JOB_YRS  \\\n",
      "Id                 1.000000 -0.001324 -0.001816   -0.005810        -0.003250   \n",
      "Income            -0.001324  1.000000 -0.000652    0.006422         0.007045   \n",
      "Age               -0.001816 -0.000652  1.000000   -0.001118         0.002154   \n",
      "Experience        -0.005810  0.006422 -0.001118    1.000000         0.646098   \n",
      "CURRENT_JOB_YRS   -0.003250  0.007045  0.002154    0.646098         1.000000   \n",
      "CURRENT_HOUSE_YRS  0.001972 -0.002397 -0.020134    0.019309         0.005372   \n",
      "Risk_Flag          0.032153 -0.003091 -0.021809   -0.034523        -0.016942   \n",
      "\n",
      "                   CURRENT_HOUSE_YRS  Risk_Flag  \n",
      "Id                          0.001972   0.032153  \n",
      "Income                     -0.002397  -0.003091  \n",
      "Age                        -0.020134  -0.021809  \n",
      "Experience                  0.019309  -0.034523  \n",
      "CURRENT_JOB_YRS             0.005372  -0.016942  \n",
      "CURRENT_HOUSE_YRS           1.000000  -0.004375  \n",
      "Risk_Flag                  -0.004375   1.000000  \n"
     ]
    }
   ],
   "source": [
    "import pandas as pd \n",
    "train=pd.read_csv(\"../input/loan-prediction-based-on-customer-behavior/Training Data.csv\")\n",
    "correlations=train.corr()\n",
    "print(correlations)"
   ]
  },
  {
   "cell_type": "code",
   "execution_count": 13,
   "id": "75df8fbf",
   "metadata": {
    "execution": {
     "iopub.execute_input": "2021-08-27T11:06:59.711327Z",
     "iopub.status.busy": "2021-08-27T11:06:59.710763Z",
     "iopub.status.idle": "2021-08-27T11:06:59.773243Z",
     "shell.execute_reply": "2021-08-27T11:06:59.773708Z",
     "shell.execute_reply.started": "2021-08-27T09:59:16.421660Z"
    },
    "papermill": {
     "duration": 0.101864,
     "end_time": "2021-08-27T11:06:59.773877",
     "exception": false,
     "start_time": "2021-08-27T11:06:59.672013",
     "status": "completed"
    },
    "tags": []
   },
   "outputs": [
    {
     "data": {
      "text/html": [
       "<div>\n",
       "<style scoped>\n",
       "    .dataframe tbody tr th:only-of-type {\n",
       "        vertical-align: middle;\n",
       "    }\n",
       "\n",
       "    .dataframe tbody tr th {\n",
       "        vertical-align: top;\n",
       "    }\n",
       "\n",
       "    .dataframe thead th {\n",
       "        text-align: right;\n",
       "    }\n",
       "</style>\n",
       "<table border=\"1\" class=\"dataframe\">\n",
       "  <thead>\n",
       "    <tr style=\"text-align: right;\">\n",
       "      <th></th>\n",
       "      <th>Id</th>\n",
       "      <th>Income</th>\n",
       "      <th>Age</th>\n",
       "      <th>Experience</th>\n",
       "      <th>CURRENT_JOB_YRS</th>\n",
       "      <th>CURRENT_HOUSE_YRS</th>\n",
       "      <th>Risk_Flag</th>\n",
       "    </tr>\n",
       "  </thead>\n",
       "  <tbody>\n",
       "    <tr>\n",
       "      <th>Id</th>\n",
       "      <td>1.000000</td>\n",
       "      <td>-0.001324</td>\n",
       "      <td>-0.001816</td>\n",
       "      <td>-0.005810</td>\n",
       "      <td>-0.003250</td>\n",
       "      <td>0.001972</td>\n",
       "      <td>0.032153</td>\n",
       "    </tr>\n",
       "    <tr>\n",
       "      <th>Income</th>\n",
       "      <td>-0.001324</td>\n",
       "      <td>1.000000</td>\n",
       "      <td>-0.000652</td>\n",
       "      <td>0.006422</td>\n",
       "      <td>0.007045</td>\n",
       "      <td>-0.002397</td>\n",
       "      <td>-0.003091</td>\n",
       "    </tr>\n",
       "    <tr>\n",
       "      <th>Age</th>\n",
       "      <td>-0.001816</td>\n",
       "      <td>-0.000652</td>\n",
       "      <td>1.000000</td>\n",
       "      <td>-0.001118</td>\n",
       "      <td>0.002154</td>\n",
       "      <td>-0.020134</td>\n",
       "      <td>-0.021809</td>\n",
       "    </tr>\n",
       "    <tr>\n",
       "      <th>Experience</th>\n",
       "      <td>-0.005810</td>\n",
       "      <td>0.006422</td>\n",
       "      <td>-0.001118</td>\n",
       "      <td>1.000000</td>\n",
       "      <td>0.646098</td>\n",
       "      <td>0.019309</td>\n",
       "      <td>-0.034523</td>\n",
       "    </tr>\n",
       "    <tr>\n",
       "      <th>CURRENT_JOB_YRS</th>\n",
       "      <td>-0.003250</td>\n",
       "      <td>0.007045</td>\n",
       "      <td>0.002154</td>\n",
       "      <td>0.646098</td>\n",
       "      <td>1.000000</td>\n",
       "      <td>0.005372</td>\n",
       "      <td>-0.016942</td>\n",
       "    </tr>\n",
       "    <tr>\n",
       "      <th>CURRENT_HOUSE_YRS</th>\n",
       "      <td>0.001972</td>\n",
       "      <td>-0.002397</td>\n",
       "      <td>-0.020134</td>\n",
       "      <td>0.019309</td>\n",
       "      <td>0.005372</td>\n",
       "      <td>1.000000</td>\n",
       "      <td>-0.004375</td>\n",
       "    </tr>\n",
       "    <tr>\n",
       "      <th>Risk_Flag</th>\n",
       "      <td>0.032153</td>\n",
       "      <td>-0.003091</td>\n",
       "      <td>-0.021809</td>\n",
       "      <td>-0.034523</td>\n",
       "      <td>-0.016942</td>\n",
       "      <td>-0.004375</td>\n",
       "      <td>1.000000</td>\n",
       "    </tr>\n",
       "  </tbody>\n",
       "</table>\n",
       "</div>"
      ],
      "text/plain": [
       "                         Id    Income       Age  Experience  CURRENT_JOB_YRS  \\\n",
       "Id                 1.000000 -0.001324 -0.001816   -0.005810        -0.003250   \n",
       "Income            -0.001324  1.000000 -0.000652    0.006422         0.007045   \n",
       "Age               -0.001816 -0.000652  1.000000   -0.001118         0.002154   \n",
       "Experience        -0.005810  0.006422 -0.001118    1.000000         0.646098   \n",
       "CURRENT_JOB_YRS   -0.003250  0.007045  0.002154    0.646098         1.000000   \n",
       "CURRENT_HOUSE_YRS  0.001972 -0.002397 -0.020134    0.019309         0.005372   \n",
       "Risk_Flag          0.032153 -0.003091 -0.021809   -0.034523        -0.016942   \n",
       "\n",
       "                   CURRENT_HOUSE_YRS  Risk_Flag  \n",
       "Id                          0.001972   0.032153  \n",
       "Income                     -0.002397  -0.003091  \n",
       "Age                        -0.020134  -0.021809  \n",
       "Experience                  0.019309  -0.034523  \n",
       "CURRENT_JOB_YRS             0.005372  -0.016942  \n",
       "CURRENT_HOUSE_YRS           1.000000  -0.004375  \n",
       "Risk_Flag                  -0.004375   1.000000  "
      ]
     },
     "execution_count": 13,
     "metadata": {},
     "output_type": "execute_result"
    }
   ],
   "source": [
    "train.corr()"
   ]
  },
  {
   "cell_type": "code",
   "execution_count": 14,
   "id": "674c1280",
   "metadata": {
    "execution": {
     "iopub.execute_input": "2021-08-27T11:06:59.851628Z",
     "iopub.status.busy": "2021-08-27T11:06:59.851001Z",
     "iopub.status.idle": "2021-08-27T11:06:59.855697Z",
     "shell.execute_reply": "2021-08-27T11:06:59.854782Z",
     "shell.execute_reply.started": "2021-08-27T09:59:16.487333Z"
    },
    "papermill": {
     "duration": 0.045644,
     "end_time": "2021-08-27T11:06:59.855942",
     "exception": false,
     "start_time": "2021-08-27T11:06:59.810298",
     "status": "completed"
    },
    "tags": []
   },
   "outputs": [
    {
     "name": "stdout",
     "output_type": "stream",
     "text": [
      "Id                   0.032153\n",
      "Income              -0.003091\n",
      "Age                 -0.021809\n",
      "Experience          -0.034523\n",
      "CURRENT_JOB_YRS     -0.016942\n",
      "CURRENT_HOUSE_YRS   -0.004375\n",
      "Risk_Flag            1.000000\n",
      "Name: Risk_Flag, dtype: float64\n"
     ]
    }
   ],
   "source": [
    "print(correlations['Risk_Flag'])"
   ]
  },
  {
   "cell_type": "code",
   "execution_count": 15,
   "id": "19767c63",
   "metadata": {
    "execution": {
     "iopub.execute_input": "2021-08-27T11:06:59.990959Z",
     "iopub.status.busy": "2021-08-27T11:06:59.985168Z",
     "iopub.status.idle": "2021-08-27T11:07:00.229557Z",
     "shell.execute_reply": "2021-08-27T11:07:00.228994Z",
     "shell.execute_reply.started": "2021-08-27T09:59:16.494269Z"
    },
    "papermill": {
     "duration": 0.33543,
     "end_time": "2021-08-27T11:07:00.229703",
     "exception": false,
     "start_time": "2021-08-27T11:06:59.894273",
     "status": "completed"
    },
    "tags": []
   },
   "outputs": [
    {
     "data": {
      "image/png": "[encoded data removed]",
      "text/plain": [
       "<Figure size 432x288 with 2 Axes>"
      ]
     },
     "metadata": {
      "needs_background": "light"
     },
     "output_type": "display_data"
    }
   ],
   "source": [
    "## always remember to use magic function in jupyter notebook :)\n",
    "%matplotlib inline \n",
    "import seaborn as sns \n",
    "import matplotlib.pyplot as plt\n",
    "sns.heatmap(correlations)\n",
    "plt.show()"
   ]
  },
  {
   "cell_type": "markdown",
   "id": "81eebfbf",
   "metadata": {
    "papermill": {
     "duration": 0.037849,
     "end_time": "2021-08-27T11:07:00.305350",
     "exception": false,
     "start_time": "2021-08-27T11:07:00.267501",
     "status": "completed"
    },
    "tags": []
   },
   "source": [
    "### Now find the correlation for dataset sample prediction and test data "
   ]
  },
  {
   "cell_type": "code",
   "execution_count": 16,
   "id": "12b60385",
   "metadata": {
    "execution": {
     "iopub.execute_input": "2021-08-27T11:07:00.385476Z",
     "iopub.status.busy": "2021-08-27T11:07:00.384761Z",
     "iopub.status.idle": "2021-08-27T11:07:00.446225Z",
     "shell.execute_reply": "2021-08-27T11:07:00.445698Z",
     "shell.execute_reply.started": "2021-08-27T09:59:16.770138Z"
    },
    "papermill": {
     "duration": 0.103358,
     "end_time": "2021-08-27T11:07:00.446358",
     "exception": false,
     "start_time": "2021-08-27T11:07:00.343000",
     "status": "completed"
    },
    "tags": []
   },
   "outputs": [
    {
     "name": "stdout",
     "output_type": "stream",
     "text": [
      "                         ID    Income       Age  Experience  CURRENT_JOB_YRS  \\\n",
      "ID                 1.000000 -0.006936  0.003830   -0.009118        -0.012008   \n",
      "Income            -0.006936  1.000000 -0.001807    0.005232         0.007494   \n",
      "Age                0.003830 -0.001807  1.000000    0.007206         0.006372   \n",
      "Experience        -0.009118  0.005232  0.007206    1.000000         0.653193   \n",
      "CURRENT_JOB_YRS   -0.012008  0.007494  0.006372    0.653193         1.000000   \n",
      "CURRENT_HOUSE_YRS -0.006534 -0.006497 -0.026779    0.017830         0.007150   \n",
      "\n",
      "                   CURRENT_HOUSE_YRS  \n",
      "ID                         -0.006534  \n",
      "Income                     -0.006497  \n",
      "Age                        -0.026779  \n",
      "Experience                  0.017830  \n",
      "CURRENT_JOB_YRS             0.007150  \n",
      "CURRENT_HOUSE_YRS           1.000000  \n"
     ]
    }
   ],
   "source": [
    "test= pd.read_csv(\"../input/loan-prediction-based-on-customer-behavior/Test Data.csv\")\n",
    "correlation2= test.corr()\n",
    "print(correlation2)"
   ]
  },
  {
   "cell_type": "code",
   "execution_count": 17,
   "id": "615cd333",
   "metadata": {
    "execution": {
     "iopub.execute_input": "2021-08-27T11:07:00.528037Z",
     "iopub.status.busy": "2021-08-27T11:07:00.527370Z",
     "iopub.status.idle": "2021-08-27T11:07:00.542565Z",
     "shell.execute_reply": "2021-08-27T11:07:00.542038Z",
     "shell.execute_reply.started": "2021-08-27T09:59:16.823174Z"
    },
    "papermill": {
     "duration": 0.058466,
     "end_time": "2021-08-27T11:07:00.542693",
     "exception": false,
     "start_time": "2021-08-27T11:07:00.484227",
     "status": "completed"
    },
    "tags": []
   },
   "outputs": [
    {
     "data": {
      "text/html": [
       "<div>\n",
       "<style scoped>\n",
       "    .dataframe tbody tr th:only-of-type {\n",
       "        vertical-align: middle;\n",
       "    }\n",
       "\n",
       "    .dataframe tbody tr th {\n",
       "        vertical-align: top;\n",
       "    }\n",
       "\n",
       "    .dataframe thead th {\n",
       "        text-align: right;\n",
       "    }\n",
       "</style>\n",
       "<table border=\"1\" class=\"dataframe\">\n",
       "  <thead>\n",
       "    <tr style=\"text-align: right;\">\n",
       "      <th></th>\n",
       "      <th>ID</th>\n",
       "      <th>Income</th>\n",
       "      <th>Age</th>\n",
       "      <th>Experience</th>\n",
       "      <th>CURRENT_JOB_YRS</th>\n",
       "      <th>CURRENT_HOUSE_YRS</th>\n",
       "    </tr>\n",
       "  </thead>\n",
       "  <tbody>\n",
       "    <tr>\n",
       "      <th>ID</th>\n",
       "      <td>1.000000</td>\n",
       "      <td>-0.006936</td>\n",
       "      <td>0.003830</td>\n",
       "      <td>-0.009118</td>\n",
       "      <td>-0.012008</td>\n",
       "      <td>-0.006534</td>\n",
       "    </tr>\n",
       "    <tr>\n",
       "      <th>Income</th>\n",
       "      <td>-0.006936</td>\n",
       "      <td>1.000000</td>\n",
       "      <td>-0.001807</td>\n",
       "      <td>0.005232</td>\n",
       "      <td>0.007494</td>\n",
       "      <td>-0.006497</td>\n",
       "    </tr>\n",
       "    <tr>\n",
       "      <th>Age</th>\n",
       "      <td>0.003830</td>\n",
       "      <td>-0.001807</td>\n",
       "      <td>1.000000</td>\n",
       "      <td>0.007206</td>\n",
       "      <td>0.006372</td>\n",
       "      <td>-0.026779</td>\n",
       "    </tr>\n",
       "    <tr>\n",
       "      <th>Experience</th>\n",
       "      <td>-0.009118</td>\n",
       "      <td>0.005232</td>\n",
       "      <td>0.007206</td>\n",
       "      <td>1.000000</td>\n",
       "      <td>0.653193</td>\n",
       "      <td>0.017830</td>\n",
       "    </tr>\n",
       "    <tr>\n",
       "      <th>CURRENT_JOB_YRS</th>\n",
       "      <td>-0.012008</td>\n",
       "      <td>0.007494</td>\n",
       "      <td>0.006372</td>\n",
       "      <td>0.653193</td>\n",
       "      <td>1.000000</td>\n",
       "      <td>0.007150</td>\n",
       "    </tr>\n",
       "    <tr>\n",
       "      <th>CURRENT_HOUSE_YRS</th>\n",
       "      <td>-0.006534</td>\n",
       "      <td>-0.006497</td>\n",
       "      <td>-0.026779</td>\n",
       "      <td>0.017830</td>\n",
       "      <td>0.007150</td>\n",
       "      <td>1.000000</td>\n",
       "    </tr>\n",
       "  </tbody>\n",
       "</table>\n",
       "</div>"
      ],
      "text/plain": [
       "                         ID    Income       Age  Experience  CURRENT_JOB_YRS  \\\n",
       "ID                 1.000000 -0.006936  0.003830   -0.009118        -0.012008   \n",
       "Income            -0.006936  1.000000 -0.001807    0.005232         0.007494   \n",
       "Age                0.003830 -0.001807  1.000000    0.007206         0.006372   \n",
       "Experience        -0.009118  0.005232  0.007206    1.000000         0.653193   \n",
       "CURRENT_JOB_YRS   -0.012008  0.007494  0.006372    0.653193         1.000000   \n",
       "CURRENT_HOUSE_YRS -0.006534 -0.006497 -0.026779    0.017830         0.007150   \n",
       "\n",
       "                   CURRENT_HOUSE_YRS  \n",
       "ID                         -0.006534  \n",
       "Income                     -0.006497  \n",
       "Age                        -0.026779  \n",
       "Experience                  0.017830  \n",
       "CURRENT_JOB_YRS             0.007150  \n",
       "CURRENT_HOUSE_YRS           1.000000  "
      ]
     },
     "execution_count": 17,
     "metadata": {},
     "output_type": "execute_result"
    }
   ],
   "source": [
    "test.corr()"
   ]
  },
  {
   "cell_type": "code",
   "execution_count": 18,
   "id": "cd39f0f2",
   "metadata": {
    "execution": {
     "iopub.execute_input": "2021-08-27T11:07:00.750406Z",
     "iopub.status.busy": "2021-08-27T11:07:00.749726Z",
     "iopub.status.idle": "2021-08-27T11:07:00.991473Z",
     "shell.execute_reply": "2021-08-27T11:07:00.991975Z",
     "shell.execute_reply.started": "2021-08-27T09:59:16.842688Z"
    },
    "papermill": {
     "duration": 0.410991,
     "end_time": "2021-08-27T11:07:00.992149",
     "exception": false,
     "start_time": "2021-08-27T11:07:00.581158",
     "status": "completed"
    },
    "tags": []
   },
   "outputs": [
    {
     "data": {
      "image/png": "[encoded data removed]",
      "text/plain": [
       "<Figure size 432x288 with 2 Axes>"
      ]
     },
     "metadata": {
      "needs_background": "light"
     },
     "output_type": "display_data"
    }
   ],
   "source": [
    "%matplotlib inline \n",
    "sns.heatmap(correlation2)\n",
    "plt.show()"
   ]
  },
  {
   "cell_type": "code",
   "execution_count": 19,
   "id": "57c26910",
   "metadata": {
    "execution": {
     "iopub.execute_input": "2021-08-27T11:07:01.074908Z",
     "iopub.status.busy": "2021-08-27T11:07:01.074273Z",
     "iopub.status.idle": "2021-08-27T11:07:01.089725Z",
     "shell.execute_reply": "2021-08-27T11:07:01.090186Z",
     "shell.execute_reply.started": "2021-08-27T09:59:17.212978Z"
    },
    "papermill": {
     "duration": 0.05823,
     "end_time": "2021-08-27T11:07:01.090356",
     "exception": false,
     "start_time": "2021-08-27T11:07:01.032126",
     "status": "completed"
    },
    "tags": []
   },
   "outputs": [
    {
     "name": "stdout",
     "output_type": "stream",
     "text": [
      "                 id  risk_flag\n",
      "id         1.000000   0.000294\n",
      "risk_flag  0.000294   1.000000\n"
     ]
    }
   ],
   "source": [
    "sample_prediction= pd.read_csv(\"../input/loan-prediction-based-on-customer-behavior/Sample Prediction Dataset.csv\")\n",
    "correlation3= sample_prediction.corr()\n",
    "print(correlation3)"
   ]
  },
  {
   "cell_type": "code",
   "execution_count": 20,
   "id": "37efa7a2",
   "metadata": {
    "execution": {
     "iopub.execute_input": "2021-08-27T11:07:01.173021Z",
     "iopub.status.busy": "2021-08-27T11:07:01.172111Z",
     "iopub.status.idle": "2021-08-27T11:07:01.365788Z",
     "shell.execute_reply": "2021-08-27T11:07:01.365282Z",
     "shell.execute_reply.started": "2021-08-27T09:59:17.228973Z"
    },
    "papermill": {
     "duration": 0.236052,
     "end_time": "2021-08-27T11:07:01.365921",
     "exception": false,
     "start_time": "2021-08-27T11:07:01.129869",
     "status": "completed"
    },
    "tags": []
   },
   "outputs": [
    {
     "data": {
      "image/png": "[encoded data removed]",
      "text/plain": [
       "<Figure size 432x288 with 2 Axes>"
      ]
     },
     "metadata": {
      "needs_background": "light"
     },
     "output_type": "display_data"
    }
   ],
   "source": [
    "sns.heatmap(correlation3)\n",
    "plt.show()"
   ]
  },
  {
   "cell_type": "markdown",
   "id": "1a4b42fc",
   "metadata": {
    "papermill": {
     "duration": 0.040462,
     "end_time": "2021-08-27T11:07:01.446320",
     "exception": false,
     "start_time": "2021-08-27T11:07:01.405858",
     "status": "completed"
    },
    "tags": []
   },
   "source": [
    "### Exploratory Data Analysis "
   ]
  },
  {
   "cell_type": "code",
   "execution_count": 21,
   "id": "bbe2d832",
   "metadata": {
    "execution": {
     "iopub.execute_input": "2021-08-27T11:07:01.531096Z",
     "iopub.status.busy": "2021-08-27T11:07:01.530460Z",
     "iopub.status.idle": "2021-08-27T11:07:03.907667Z",
     "shell.execute_reply": "2021-08-27T11:07:03.906497Z",
     "shell.execute_reply.started": "2021-08-27T09:59:17.415538Z"
    },
    "papermill": {
     "duration": 2.421736,
     "end_time": "2021-08-27T11:07:03.907812",
     "exception": false,
     "start_time": "2021-08-27T11:07:01.486076",
     "status": "completed"
    },
    "tags": []
   },
   "outputs": [
    {
     "name": "stdout",
     "output_type": "stream",
     "text": [
      "count    252000.000000\n",
      "mean          0.123000\n",
      "std           0.328438\n",
      "min           0.000000\n",
      "25%           0.000000\n",
      "50%           0.000000\n",
      "75%           0.000000\n",
      "max           1.000000\n",
      "Name: Risk_Flag, dtype: float64\n"
     ]
    },
    {
     "name": "stderr",
     "output_type": "stream",
     "text": [
      "/opt/conda/lib/python3.7/site-packages/seaborn/distributions.py:2557: FutureWarning: `distplot` is a deprecated function and will be removed in a future version. Please adapt your code to use either `displot` (a figure-level function with similar flexibility) or `histplot` (an axes-level function for histograms).\n",
      "  warnings.warn(msg, FutureWarning)\n"
     ]
    },
    {
     "data": {
      "image/png": "[encoded data removed]",
      "text/plain": [
       "<Figure size 1080x360 with 1 Axes>"
      ]
     },
     "metadata": {
      "needs_background": "light"
     },
     "output_type": "display_data"
    }
   ],
   "source": [
    "#our target feature is Risk_Flag lets first find EDA of Risk_Flag \n",
    "import pandas as pd \n",
    "training_data=pd.read_csv(\"../input/loan-prediction-based-on-customer-behavior/Training Data.csv\")\n",
    "print(training_data['Risk_Flag'].describe())\n",
    "plt.figure(figsize=(15,5))\n",
    "sns.distplot(training_data['Risk_Flag'],color='g',bins=100,hist_kws={'alpha':0.4});"
   ]
  },
  {
   "cell_type": "code",
   "execution_count": 22,
   "id": "427802c5",
   "metadata": {
    "execution": {
     "iopub.execute_input": "2021-08-27T11:07:03.995517Z",
     "iopub.status.busy": "2021-08-27T11:07:03.994807Z",
     "iopub.status.idle": "2021-08-27T11:07:05.945016Z",
     "shell.execute_reply": "2021-08-27T11:07:05.944391Z",
     "shell.execute_reply.started": "2021-08-27T09:59:19.670017Z"
    },
    "papermill": {
     "duration": 1.995547,
     "end_time": "2021-08-27T11:07:05.945150",
     "exception": false,
     "start_time": "2021-08-27T11:07:03.949603",
     "status": "completed"
    },
    "tags": []
   },
   "outputs": [
    {
     "data": {
      "text/plain": [
       "array([[<AxesSubplot:title={'center':'Id'}>,\n",
       "        <AxesSubplot:title={'center':'Income'}>,\n",
       "        <AxesSubplot:title={'center':'Age'}>],\n",
       "       [<AxesSubplot:title={'center':'Experience'}>,\n",
       "        <AxesSubplot:title={'center':'CURRENT_JOB_YRS'}>,\n",
       "        <AxesSubplot:title={'center':'CURRENT_HOUSE_YRS'}>],\n",
       "       [<AxesSubplot:title={'center':'Risk_Flag'}>, <AxesSubplot:>,\n",
       "        <AxesSubplot:>]], dtype=object)"
      ]
     },
     "execution_count": 22,
     "metadata": {},
     "output_type": "execute_result"
    },
    {
     "data": {
      "image/png": "[encoded data removed]",
      "text/plain": [
       "<Figure size 1152x1440 with 9 Axes>"
      ]
     },
     "metadata": {
      "needs_background": "light"
     },
     "output_type": "display_data"
    }
   ],
   "source": [
    "training_data.hist(figsize=(16,20),bins=50,xlabelsize=8,ylabelsize=8)"
   ]
  },
  {
   "cell_type": "code",
   "execution_count": 23,
   "id": "a5606841",
   "metadata": {
    "execution": {
     "iopub.execute_input": "2021-08-27T11:07:06.039417Z",
     "iopub.status.busy": "2021-08-27T11:07:06.038826Z",
     "iopub.status.idle": "2021-08-27T11:07:28.386291Z",
     "shell.execute_reply": "2021-08-27T11:07:28.387086Z",
     "shell.execute_reply.started": "2021-08-27T09:59:21.386751Z"
    },
    "papermill": {
     "duration": 22.398371,
     "end_time": "2021-08-27T11:07:28.387322",
     "exception": false,
     "start_time": "2021-08-27T11:07:05.988951",
     "status": "completed"
    },
    "tags": []
   },
   "outputs": [
    {
     "data": {
      "image/png": "[encoded data removed]",
      "text/plain": [
       "<Figure size 900x180 with 5 Axes>"
      ]
     },
     "metadata": {
      "needs_background": "light"
     },
     "output_type": "display_data"
    },
    {
     "data": {
      "image/png": "[encoded data removed]",
      "text/plain": [
       "<Figure size 900x180 with 5 Axes>"
      ]
     },
     "metadata": {
      "needs_background": "light"
     },
     "output_type": "display_data"
    },
    {
     "data": {
      "image/png": "[encoded data removed]",
      "text/plain": [
       "<Figure size 540x180 with 4 Axes>"
      ]
     },
     "metadata": {
      "needs_background": "light"
     },
     "output_type": "display_data"
    }
   ],
   "source": [
    "for i in range(0, len(training_data.columns), 5):\n",
    "    sns.pairplot(data=training_data,\n",
    "                x_vars=training_data.columns[i:i+5],\n",
    "                y_vars=['Risk_Flag'])"
   ]
  },
  {
   "cell_type": "code",
   "execution_count": 24,
   "id": "9ac0a92f",
   "metadata": {
    "execution": {
     "iopub.execute_input": "2021-08-27T11:07:28.666432Z",
     "iopub.status.busy": "2021-08-27T11:07:28.665359Z",
     "iopub.status.idle": "2021-08-27T11:07:30.346349Z",
     "shell.execute_reply": "2021-08-27T11:07:30.346840Z",
     "shell.execute_reply.started": "2021-08-27T09:59:41.501823Z"
    },
    "papermill": {
     "duration": 1.904147,
     "end_time": "2021-08-27T11:07:30.347027",
     "exception": false,
     "start_time": "2021-08-27T11:07:28.442880",
     "status": "completed"
    },
    "tags": []
   },
   "outputs": [
    {
     "data": {
      "text/plain": [
       "array([[<AxesSubplot:title={'center':'ID'}>,\n",
       "        <AxesSubplot:title={'center':'Income'}>],\n",
       "       [<AxesSubplot:title={'center':'Age'}>,\n",
       "        <AxesSubplot:title={'center':'Experience'}>],\n",
       "       [<AxesSubplot:title={'center':'CURRENT_JOB_YRS'}>,\n",
       "        <AxesSubplot:title={'center':'CURRENT_HOUSE_YRS'}>]], dtype=object)"
      ]
     },
     "execution_count": 24,
     "metadata": {},
     "output_type": "execute_result"
    },
    {
     "data": {
      "image/png": "[encoded data removed]",
      "text/plain": [
       "<Figure size 1152x1440 with 6 Axes>"
      ]
     },
     "metadata": {
      "needs_background": "light"
     },
     "output_type": "display_data"
    }
   ],
   "source": [
    "test_data.hist(figsize=(16,20),bins=50,xlabelsize=8,ylabelsize=8)"
   ]
  },
  {
   "cell_type": "code",
   "execution_count": 25,
   "id": "9cb8aaf6",
   "metadata": {
    "execution": {
     "iopub.execute_input": "2021-08-27T11:07:30.449831Z",
     "iopub.status.busy": "2021-08-27T11:07:30.448885Z",
     "iopub.status.idle": "2021-08-27T11:07:40.652118Z",
     "shell.execute_reply": "2021-08-27T11:07:40.652615Z",
     "shell.execute_reply.started": "2021-08-27T09:59:43.091044Z"
    },
    "papermill": {
     "duration": 10.257141,
     "end_time": "2021-08-27T11:07:40.652797",
     "exception": false,
     "start_time": "2021-08-27T11:07:30.395656",
     "status": "completed"
    },
    "tags": []
   },
   "outputs": [
    {
     "data": {
      "image/png": "[encoded data removed]",
      "text/plain": [
       "<Figure size 900x180 with 5 Axes>"
      ]
     },
     "metadata": {
      "needs_background": "light"
     },
     "output_type": "display_data"
    },
    {
     "data": {
      "image/png": "[encoded data removed]",
      "text/plain": [
       "<Figure size 900x180 with 6 Axes>"
      ]
     },
     "metadata": {
      "needs_background": "light"
     },
     "output_type": "display_data"
    },
    {
     "data": {
      "image/png": "[encoded data removed]",
      "text/plain": [
       "<Figure size 360x180 with 2 Axes>"
      ]
     },
     "metadata": {
      "needs_background": "light"
     },
     "output_type": "display_data"
    }
   ],
   "source": [
    "for i in range(0, len(test_data.columns), 5):\n",
    "    sns.pairplot(data=test_data,\n",
    "                x_vars=test_data.columns[i:i+5],\n",
    "                y_vars=['Car_Ownership'])"
   ]
  },
  {
   "cell_type": "code",
   "execution_count": 26,
   "id": "16a4f67b",
   "metadata": {
    "execution": {
     "iopub.execute_input": "2021-08-27T11:07:40.757847Z",
     "iopub.status.busy": "2021-08-27T11:07:40.756942Z",
     "iopub.status.idle": "2021-08-27T11:07:50.958345Z",
     "shell.execute_reply": "2021-08-27T11:07:50.957842Z",
     "shell.execute_reply.started": "2021-08-27T09:59:52.373521Z"
    },
    "papermill": {
     "duration": 10.254633,
     "end_time": "2021-08-27T11:07:50.958503",
     "exception": false,
     "start_time": "2021-08-27T11:07:40.703870",
     "status": "completed"
    },
    "tags": []
   },
   "outputs": [
    {
     "data": {
      "image/png": "[encoded data removed]",
      "text/plain": [
       "<Figure size 900x180 with 5 Axes>"
      ]
     },
     "metadata": {
      "needs_background": "light"
     },
     "output_type": "display_data"
    },
    {
     "data": {
      "image/png": "[encoded data removed]",
      "text/plain": [
       "<Figure size 900x180 with 6 Axes>"
      ]
     },
     "metadata": {
      "needs_background": "light"
     },
     "output_type": "display_data"
    },
    {
     "data": {
      "image/png": "[encoded data removed]",
      "text/plain": [
       "<Figure size 360x180 with 2 Axes>"
      ]
     },
     "metadata": {
      "needs_background": "light"
     },
     "output_type": "display_data"
    }
   ],
   "source": [
    "for i in range(0, len(test_data.columns), 5):\n",
    "    sns.pairplot(data=test_data,\n",
    "                x_vars=test_data.columns[i:i+5],\n",
    "                y_vars=['House_Ownership'])"
   ]
  },
  {
   "cell_type": "markdown",
   "id": "2293c86d",
   "metadata": {
    "papermill": {
     "duration": 0.053017,
     "end_time": "2021-08-27T11:07:51.065702",
     "exception": false,
     "start_time": "2021-08-27T11:07:51.012685",
     "status": "completed"
    },
    "tags": []
   },
   "source": [
    "### now we will do label enconding of train dataset "
   ]
  },
  {
   "cell_type": "code",
   "execution_count": 27,
   "id": "a57cc87c",
   "metadata": {
    "execution": {
     "iopub.execute_input": "2021-08-27T11:07:51.178727Z",
     "iopub.status.busy": "2021-08-27T11:07:51.178070Z",
     "iopub.status.idle": "2021-08-27T11:07:51.180376Z",
     "shell.execute_reply": "2021-08-27T11:07:51.180832Z",
     "shell.execute_reply.started": "2021-08-27T10:00:01.692909Z"
    },
    "papermill": {
     "duration": 0.06068,
     "end_time": "2021-08-27T11:07:51.180984",
     "exception": false,
     "start_time": "2021-08-27T11:07:51.120304",
     "status": "completed"
    },
    "tags": []
   },
   "outputs": [],
   "source": [
    "import seaborn as sns \n",
    "from sklearn import preprocessing \n",
    "from sklearn.model_selection import train_test_split\n",
    "from sklearn.metrics import classification_report\n",
    "from sklearn.metrics import accuracy_score"
   ]
  },
  {
   "cell_type": "code",
   "execution_count": 28,
   "id": "81c86496",
   "metadata": {
    "execution": {
     "iopub.execute_input": "2021-08-27T11:07:51.288563Z",
     "iopub.status.busy": "2021-08-27T11:07:51.287982Z",
     "iopub.status.idle": "2021-08-27T11:07:51.559028Z",
     "shell.execute_reply": "2021-08-27T11:07:51.558389Z",
     "shell.execute_reply.started": "2021-08-27T10:00:01.699207Z"
    },
    "papermill": {
     "duration": 0.325773,
     "end_time": "2021-08-27T11:07:51.559173",
     "exception": false,
     "start_time": "2021-08-27T11:07:51.233400",
     "status": "completed"
    },
    "tags": []
   },
   "outputs": [],
   "source": [
    "#label encoding \n",
    "label_ms=preprocessing.LabelEncoder()\n",
    "training_data[\"Married/Single\"]=label_ms.fit_transform(training_data[\"Married/Single\"])\n",
    "\n",
    "label_ho=preprocessing.LabelEncoder()\n",
    "training_data[\"House_Ownership\"]=label_ho.fit_transform(training_data[\"House_Ownership\"])\n",
    "\n",
    "label_co=preprocessing.LabelEncoder()\n",
    "training_data[\"Car_Ownership\"]=label_co.fit_transform(training_data[\"Car_Ownership\"])\n"
   ]
  },
  {
   "cell_type": "code",
   "execution_count": 29,
   "id": "36096fcf",
   "metadata": {
    "execution": {
     "iopub.execute_input": "2021-08-27T11:07:51.683190Z",
     "iopub.status.busy": "2021-08-27T11:07:51.682583Z",
     "iopub.status.idle": "2021-08-27T11:07:51.686144Z",
     "shell.execute_reply": "2021-08-27T11:07:51.686648Z",
     "shell.execute_reply.started": "2021-08-27T10:00:01.845661Z"
    },
    "papermill": {
     "duration": 0.072658,
     "end_time": "2021-08-27T11:07:51.686802",
     "exception": false,
     "start_time": "2021-08-27T11:07:51.614144",
     "status": "completed"
    },
    "tags": []
   },
   "outputs": [
    {
     "data": {
      "text/html": [
       "<div>\n",
       "<style scoped>\n",
       "    .dataframe tbody tr th:only-of-type {\n",
       "        vertical-align: middle;\n",
       "    }\n",
       "\n",
       "    .dataframe tbody tr th {\n",
       "        vertical-align: top;\n",
       "    }\n",
       "\n",
       "    .dataframe thead th {\n",
       "        text-align: right;\n",
       "    }\n",
       "</style>\n",
       "<table border=\"1\" class=\"dataframe\">\n",
       "  <thead>\n",
       "    <tr style=\"text-align: right;\">\n",
       "      <th></th>\n",
       "      <th>Id</th>\n",
       "      <th>Income</th>\n",
       "      <th>Age</th>\n",
       "      <th>Experience</th>\n",
       "      <th>Married/Single</th>\n",
       "      <th>House_Ownership</th>\n",
       "      <th>Car_Ownership</th>\n",
       "      <th>Profession</th>\n",
       "      <th>CITY</th>\n",
       "      <th>STATE</th>\n",
       "      <th>CURRENT_JOB_YRS</th>\n",
       "      <th>CURRENT_HOUSE_YRS</th>\n",
       "      <th>Risk_Flag</th>\n",
       "    </tr>\n",
       "  </thead>\n",
       "  <tbody>\n",
       "    <tr>\n",
       "      <th>0</th>\n",
       "      <td>1</td>\n",
       "      <td>1303834</td>\n",
       "      <td>23</td>\n",
       "      <td>3</td>\n",
       "      <td>1</td>\n",
       "      <td>2</td>\n",
       "      <td>0</td>\n",
       "      <td>Mechanical_engineer</td>\n",
       "      <td>Rewa</td>\n",
       "      <td>Madhya_Pradesh</td>\n",
       "      <td>3</td>\n",
       "      <td>13</td>\n",
       "      <td>0</td>\n",
       "    </tr>\n",
       "    <tr>\n",
       "      <th>1</th>\n",
       "      <td>2</td>\n",
       "      <td>7574516</td>\n",
       "      <td>40</td>\n",
       "      <td>10</td>\n",
       "      <td>1</td>\n",
       "      <td>2</td>\n",
       "      <td>0</td>\n",
       "      <td>Software_Developer</td>\n",
       "      <td>Parbhani</td>\n",
       "      <td>Maharashtra</td>\n",
       "      <td>9</td>\n",
       "      <td>13</td>\n",
       "      <td>0</td>\n",
       "    </tr>\n",
       "    <tr>\n",
       "      <th>2</th>\n",
       "      <td>3</td>\n",
       "      <td>3991815</td>\n",
       "      <td>66</td>\n",
       "      <td>4</td>\n",
       "      <td>0</td>\n",
       "      <td>2</td>\n",
       "      <td>0</td>\n",
       "      <td>Technical_writer</td>\n",
       "      <td>Alappuzha</td>\n",
       "      <td>Kerala</td>\n",
       "      <td>4</td>\n",
       "      <td>10</td>\n",
       "      <td>0</td>\n",
       "    </tr>\n",
       "    <tr>\n",
       "      <th>3</th>\n",
       "      <td>4</td>\n",
       "      <td>6256451</td>\n",
       "      <td>41</td>\n",
       "      <td>2</td>\n",
       "      <td>1</td>\n",
       "      <td>2</td>\n",
       "      <td>1</td>\n",
       "      <td>Software_Developer</td>\n",
       "      <td>Bhubaneswar</td>\n",
       "      <td>Odisha</td>\n",
       "      <td>2</td>\n",
       "      <td>12</td>\n",
       "      <td>1</td>\n",
       "    </tr>\n",
       "    <tr>\n",
       "      <th>4</th>\n",
       "      <td>5</td>\n",
       "      <td>5768871</td>\n",
       "      <td>47</td>\n",
       "      <td>11</td>\n",
       "      <td>1</td>\n",
       "      <td>2</td>\n",
       "      <td>0</td>\n",
       "      <td>Civil_servant</td>\n",
       "      <td>Tiruchirappalli[10]</td>\n",
       "      <td>Tamil_Nadu</td>\n",
       "      <td>3</td>\n",
       "      <td>14</td>\n",
       "      <td>1</td>\n",
       "    </tr>\n",
       "  </tbody>\n",
       "</table>\n",
       "</div>"
      ],
      "text/plain": [
       "   Id   Income  Age  Experience  Married/Single  House_Ownership  \\\n",
       "0   1  1303834   23           3               1                2   \n",
       "1   2  7574516   40          10               1                2   \n",
       "2   3  3991815   66           4               0                2   \n",
       "3   4  6256451   41           2               1                2   \n",
       "4   5  5768871   47          11               1                2   \n",
       "\n",
       "   Car_Ownership           Profession                 CITY           STATE  \\\n",
       "0              0  Mechanical_engineer                 Rewa  Madhya_Pradesh   \n",
       "1              0   Software_Developer             Parbhani     Maharashtra   \n",
       "2              0     Technical_writer            Alappuzha          Kerala   \n",
       "3              1   Software_Developer          Bhubaneswar          Odisha   \n",
       "4              0        Civil_servant  Tiruchirappalli[10]      Tamil_Nadu   \n",
       "\n",
       "   CURRENT_JOB_YRS  CURRENT_HOUSE_YRS  Risk_Flag  \n",
       "0                3                 13          0  \n",
       "1                9                 13          0  \n",
       "2                4                 10          0  \n",
       "3                2                 12          1  \n",
       "4                3                 14          1  "
      ]
     },
     "execution_count": 29,
     "metadata": {},
     "output_type": "execute_result"
    }
   ],
   "source": [
    "training_data.head()"
   ]
  },
  {
   "cell_type": "code",
   "execution_count": 30,
   "id": "f77d32a1",
   "metadata": {
    "execution": {
     "iopub.execute_input": "2021-08-27T11:07:51.799327Z",
     "iopub.status.busy": "2021-08-27T11:07:51.798709Z",
     "iopub.status.idle": "2021-08-27T11:07:51.801193Z",
     "shell.execute_reply": "2021-08-27T11:07:51.801718Z",
     "shell.execute_reply.started": "2021-08-27T10:00:01.861781Z"
    },
    "papermill": {
     "duration": 0.06116,
     "end_time": "2021-08-27T11:07:51.801872",
     "exception": false,
     "start_time": "2021-08-27T11:07:51.740712",
     "status": "completed"
    },
    "tags": []
   },
   "outputs": [
    {
     "data": {
      "text/plain": [
       "Index(['Id', 'Income', 'Age', 'Experience', 'Married/Single',\n",
       "       'House_Ownership', 'Car_Ownership', 'Profession', 'CITY', 'STATE',\n",
       "       'CURRENT_JOB_YRS', 'CURRENT_HOUSE_YRS', 'Risk_Flag'],\n",
       "      dtype='object')"
      ]
     },
     "execution_count": 30,
     "metadata": {},
     "output_type": "execute_result"
    }
   ],
   "source": [
    "training_data.columns"
   ]
  },
  {
   "cell_type": "code",
   "execution_count": 31,
   "id": "4b5d47f1",
   "metadata": {
    "execution": {
     "iopub.execute_input": "2021-08-27T11:07:51.911916Z",
     "iopub.status.busy": "2021-08-27T11:07:51.911265Z",
     "iopub.status.idle": "2021-08-27T11:07:51.933081Z",
     "shell.execute_reply": "2021-08-27T11:07:51.932468Z",
     "shell.execute_reply.started": "2021-08-27T10:00:01.873116Z"
    },
    "papermill": {
     "duration": 0.077814,
     "end_time": "2021-08-27T11:07:51.933240",
     "exception": false,
     "start_time": "2021-08-27T11:07:51.855426",
     "status": "completed"
    },
    "tags": []
   },
   "outputs": [],
   "source": [
    "#splitting of data\n",
    "X=training_data[['Income','Age','Experience','Married/Single','House_Ownership','Car_Ownership','CURRENT_JOB_YRS','CURRENT_HOUSE_YRS']]\n",
    "y=training_data['Risk_Flag']"
   ]
  },
  {
   "cell_type": "code",
   "execution_count": 32,
   "id": "87fa6e25",
   "metadata": {
    "execution": {
     "iopub.execute_input": "2021-08-27T11:07:52.048687Z",
     "iopub.status.busy": "2021-08-27T11:07:52.048051Z",
     "iopub.status.idle": "2021-08-27T11:07:52.088857Z",
     "shell.execute_reply": "2021-08-27T11:07:52.089732Z",
     "shell.execute_reply.started": "2021-08-27T10:00:01.904282Z"
    },
    "papermill": {
     "duration": 0.101306,
     "end_time": "2021-08-27T11:07:52.090011",
     "exception": false,
     "start_time": "2021-08-27T11:07:51.988705",
     "status": "completed"
    },
    "tags": []
   },
   "outputs": [
    {
     "name": "stdout",
     "output_type": "stream",
     "text": [
      "(176400, 8)\n",
      "(75600, 8)\n",
      "(176400,)\n",
      "(75600,)\n"
     ]
    }
   ],
   "source": [
    "train_x, test_x, train_y, test_y=train_test_split(X, y, test_size=0.30, random_state=0)\n",
    "print(train_x.shape)\n",
    "print(test_x.shape)\n",
    "print(train_y.shape)\n",
    "print(test_y.shape)"
   ]
  },
  {
   "cell_type": "markdown",
   "id": "f266bc03",
   "metadata": {
    "papermill": {
     "duration": 0.059882,
     "end_time": "2021-08-27T11:07:52.222353",
     "exception": false,
     "start_time": "2021-08-27T11:07:52.162471",
     "status": "completed"
    },
    "tags": []
   },
   "source": [
    "### Finding Accuracy Score and roc_auc_score of train dataset from Decision Tree Classifier "
   ]
  },
  {
   "cell_type": "code",
   "execution_count": 33,
   "id": "0d0809df",
   "metadata": {
    "execution": {
     "iopub.execute_input": "2021-08-27T11:07:52.347432Z",
     "iopub.status.busy": "2021-08-27T11:07:52.346771Z",
     "iopub.status.idle": "2021-08-27T11:07:53.189687Z",
     "shell.execute_reply": "2021-08-27T11:07:53.189028Z",
     "shell.execute_reply.started": "2021-08-27T10:47:00.971330Z"
    },
    "papermill": {
     "duration": 0.912297,
     "end_time": "2021-08-27T11:07:53.189830",
     "exception": false,
     "start_time": "2021-08-27T11:07:52.277533",
     "status": "completed"
    },
    "tags": []
   },
   "outputs": [
    {
     "name": "stdout",
     "output_type": "stream",
     "text": [
      "Results Using Gini Index:\n",
      "Predicted values:\n",
      "[0 0 0 ... 0 0 0]\n",
      "Confusion Matrix:  [[55222     1]\n",
      " [ 7770     7]]\n",
      "Accuracy :  0.8766507936507937\n",
      "Roc_Auc score %.2f:  0.5004409908060686\n",
      "Report :                precision    recall  f1-score   support\n",
      "\n",
      "           0       0.88      1.00      0.93     55223\n",
      "           1       0.88      0.00      0.00      7777\n",
      "\n",
      "    accuracy                           0.88     63000\n",
      "   macro avg       0.88      0.50      0.47     63000\n",
      "weighted avg       0.88      0.88      0.82     63000\n",
      "\n",
      "Results Using Entropy:\n",
      "Predicted values:\n",
      "[0 0 0 ... 0 0 0]\n",
      "Confusion Matrix:  [[55222     1]\n",
      " [ 7770     7]]\n",
      "Accuracy :  0.8766507936507937\n",
      "Roc_Auc score %.2f:  0.5004409908060686\n",
      "Report :                precision    recall  f1-score   support\n",
      "\n",
      "           0       0.88      1.00      0.93     55223\n",
      "           1       0.88      0.00      0.00      7777\n",
      "\n",
      "    accuracy                           0.88     63000\n",
      "   macro avg       0.88      0.50      0.47     63000\n",
      "weighted avg       0.88      0.88      0.82     63000\n",
      "\n"
     ]
    }
   ],
   "source": [
    "import numpy as  np\n",
    "import pandas as pd \n",
    "from sklearn.metrics import confusion_matrix\n",
    "#from sklearn.cross_validation import train_test_split\n",
    "from sklearn.model_selection import train_test_split\n",
    "from sklearn.metrics import roc_auc_score\n",
    "from sklearn.tree import DecisionTreeClassifier\n",
    "from sklearn.metrics import accuracy_score\n",
    "from sklearn.metrics import classification_report\n",
    "\n",
    "def printdata():\n",
    "    print(\"Dataset Length: \",len(training_data))\n",
    "    print(\"Dataset shape: \",training_data.shape)\n",
    "\n",
    "    #printing dataset observations \n",
    "    print(\"dataset: \",training_data.head())\n",
    "    return training_data\n",
    "\n",
    "#function to split dataset \n",
    "def splitdataset(training_data):\n",
    "    #seperating the target variable\n",
    "    X=training_data[['Income','Age','Experience','Married/Single','House_Ownership','Car_Ownership','CURRENT_JOB_YRS','CURRENT_HOUSE_YRS']]\n",
    "    Y=training_data['Risk_Flag']\n",
    "    \n",
    "    #splitting dataset into train and test \n",
    "    X_train,X_test,y_train,y_test = train_test_split(X,Y,random_state=100)\n",
    "    \n",
    "    return X,Y,X_train,X_test,y_train,y_test\n",
    "\n",
    "#function to perform training with gini_index\n",
    "def train_using_gini(X_train,X_test,y_train):\n",
    "    #creating the classifier object \n",
    "    clf_gini= DecisionTreeClassifier(criterion=\"gini\",random_state=100, max_depth=3,min_samples_leaf=5)\n",
    "    \n",
    "    #performing training \n",
    "    clf_gini.fit(X_train,y_train)\n",
    "    return clf_gini\n",
    "\n",
    "#function to perform training with entropy \n",
    "def train_using_entropy(X_train,X_test,y_train):\n",
    "    \n",
    "    #decision tree with entropy\n",
    "    clf_entropy=DecisionTreeClassifier(criterion=\"entropy\",random_state=100,max_depth=3,min_samples_leaf=5)\n",
    "    \n",
    "    #performing training \n",
    "    clf_entropy.fit(X_train,y_train)\n",
    "    return clf_entropy\n",
    "\n",
    "#function to make predictions \n",
    "def prediction(X_test,clf_object):\n",
    "    \n",
    "    #prediction on test with ginniIndex\n",
    "    y_pred = clf_object.predict(X_test)\n",
    "    print(\"Predicted values:\")\n",
    "    print(y_pred)\n",
    "    return y_pred\n",
    "      \n",
    "    # Function to calculate accuracy\n",
    "def cal_accuracy(y_test, y_pred):\n",
    "      \n",
    "    print(\"Confusion Matrix: \",\n",
    "        confusion_matrix(y_test, y_pred))\n",
    "      \n",
    "    print (\"Accuracy : \",\n",
    "    accuracy_score(y_test,y_pred))\n",
    "    print ( \"Roc_Auc score %.2f: \", roc_auc_score ( y_test, y_pred ))\n",
    "      \n",
    "    print(\"Report : \",\n",
    "    classification_report(y_test, y_pred))\n",
    "  \n",
    "# Driver code\n",
    "def main():\n",
    "      \n",
    "    # Building Phase\n",
    "    data = training_data\n",
    "    X, Y, X_train, X_test, y_train, y_test = splitdataset(data)\n",
    "    clf_gini = train_using_gini(X_train, X_test, y_train)\n",
    "    clf_entropy = train_using_entropy(X_train, X_test, y_train)\n",
    "      \n",
    "    # Operational Phase\n",
    "    print(\"Results Using Gini Index:\")\n",
    "      \n",
    "    # Prediction using gini\n",
    "    y_pred_gini = prediction(X_test, clf_gini)\n",
    "    cal_accuracy(y_test, y_pred_gini)\n",
    "      \n",
    "    print(\"Results Using Entropy:\")\n",
    "    # Prediction using entropy\n",
    "    y_pred_entropy = prediction(X_test, clf_entropy)\n",
    "    cal_accuracy(y_test, y_pred_entropy)\n",
    "      \n",
    "\n",
    "        # Calling main function\n",
    "if __name__==\"__main__\":\n",
    "    main()\n",
    "       "
   ]
  }
 ],
 "metadata": {
  "kernelspec": {
   "display_name": "Python 3",
   "language": "python",
   "name": "python3"
  },
  "language_info": {
   "codemirror_mode": {
    "name": "ipython",
    "version": 3
   },
   "file_extension": ".py",
   "mimetype": "text/x-python",
   "name": "python",
   "nbconvert_exporter": "python",
   "pygments_lexer": "ipython3",
   "version": "3.7.10"
  },
  "papermill": {
   "default_parameters": {},
   "duration": 66.76168,
   "end_time": "2021-08-27T11:07:54.678840",
   "environment_variables": {},
   "exception": null,
   "input_path": "__notebook__.ipynb",
   "output_path": "__notebook__.ipynb",
   "parameters": {},
   "start_time": "2021-08-27T11:06:47.917160",
   "version": "2.3.3"
  }
 },
 "nbformat": 4,
 "nbformat_minor": 5
}
